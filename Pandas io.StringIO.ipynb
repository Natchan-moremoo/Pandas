{
 "cells": [
  {
   "cell_type": "markdown",
   "metadata": {},
   "source": [
    "    Create project 01/06/2565\n",
    "    Create by moremoo\n",
    "    Project : Pandas io.StringIO(memory file, read string as file)"
   ]
  },
  {
   "cell_type": "code",
   "execution_count": null,
   "metadata": {},
   "outputs": [],
   "source": []
  },
  {
   "cell_type": "code",
   "execution_count": 3,
   "metadata": {},
   "outputs": [],
   "source": [
    "import pandas as pd\n",
    "import requests\n",
    "import io\n",
    "# from io import StringIO"
   ]
  },
  {
   "cell_type": "raw",
   "metadata": {},
   "source": []
  },
  {
   "cell_type": "code",
   "execution_count": 4,
   "metadata": {},
   "outputs": [
    {
     "name": "stdout",
     "output_type": "stream",
     "text": [
      "pandas version: 1.1.3\n"
     ]
    }
   ],
   "source": [
    "print(f'pandas version: {pd.__version__}')"
   ]
  },
  {
   "cell_type": "code",
   "execution_count": 5,
   "metadata": {},
   "outputs": [
    {
     "data": {
      "text/plain": [
       "Timestamp('2023-05-31 22:17:06.895507')"
      ]
     },
     "execution_count": 5,
     "metadata": {},
     "output_type": "execute_result"
    }
   ],
   "source": [
    "pd.Timestamp.now()"
   ]
  },
  {
   "cell_type": "markdown",
   "metadata": {},
   "source": [
    "# Ex1 : แปลงตัว String ให้เหมือนอ่านไฟล์ โดยใช้ StringIO"
   ]
  },
  {
   "cell_type": "code",
   "execution_count": 12,
   "metadata": {},
   "outputs": [],
   "source": [
    "s=\"\"\"\n",
    "p_id,name,name_en,region,area_km2\n",
    "กจ,กาญจนบุรี,Kanchannaburi,C,19483.148\n",
    "กทม,กรุงเทพมหานคร,Bangkok,C,1568.737\n",
    "จบ,จันทบุรี,Chanthaburi,C,6338.0\n",
    "ฉช,ฉะเชิงเทรา,Chachoengsao,C,5351.0\n",
    "\"\"\""
   ]
  },
  {
   "cell_type": "code",
   "execution_count": 11,
   "metadata": {},
   "outputs": [
    {
     "data": {
      "text/html": [
       "<div>\n",
       "<style scoped>\n",
       "    .dataframe tbody tr th:only-of-type {\n",
       "        vertical-align: middle;\n",
       "    }\n",
       "\n",
       "    .dataframe tbody tr th {\n",
       "        vertical-align: top;\n",
       "    }\n",
       "\n",
       "    .dataframe thead th {\n",
       "        text-align: right;\n",
       "    }\n",
       "</style>\n",
       "<table border=\"1\" class=\"dataframe\">\n",
       "  <thead>\n",
       "    <tr style=\"text-align: right;\">\n",
       "      <th></th>\n",
       "      <th>p_id</th>\n",
       "      <th>name</th>\n",
       "      <th>name_en</th>\n",
       "      <th>region</th>\n",
       "      <th>area_km2</th>\n",
       "    </tr>\n",
       "  </thead>\n",
       "  <tbody>\n",
       "    <tr>\n",
       "      <th>0</th>\n",
       "      <td>กจ</td>\n",
       "      <td>กาญจนบุรี</td>\n",
       "      <td>Kanchannaburi</td>\n",
       "      <td>C</td>\n",
       "      <td>19483.148</td>\n",
       "    </tr>\n",
       "    <tr>\n",
       "      <th>1</th>\n",
       "      <td>กทม</td>\n",
       "      <td>กรุงเทพมหานคร</td>\n",
       "      <td>Bangkok</td>\n",
       "      <td>C</td>\n",
       "      <td>1568.737</td>\n",
       "    </tr>\n",
       "    <tr>\n",
       "      <th>2</th>\n",
       "      <td>จบ</td>\n",
       "      <td>จันทบุรี</td>\n",
       "      <td>Chanthaburi</td>\n",
       "      <td>C</td>\n",
       "      <td>6338.000</td>\n",
       "    </tr>\n",
       "    <tr>\n",
       "      <th>3</th>\n",
       "      <td>ฉช</td>\n",
       "      <td>ฉะเชิงเทรา</td>\n",
       "      <td>Chachoengsao</td>\n",
       "      <td>C</td>\n",
       "      <td>5351.000</td>\n",
       "    </tr>\n",
       "  </tbody>\n",
       "</table>\n",
       "</div>"
      ],
      "text/plain": [
       "  p_id           name        name_en region   area_km2\n",
       "0   กจ      กาญจนบุรี  Kanchannaburi      C  19483.148\n",
       "1  กทม  กรุงเทพมหานคร        Bangkok      C   1568.737\n",
       "2   จบ       จันทบุรี    Chanthaburi      C   6338.000\n",
       "3   ฉช     ฉะเชิงเทรา   Chachoengsao      C   5351.000"
      ]
     },
     "execution_count": 11,
     "metadata": {},
     "output_type": "execute_result"
    }
   ],
   "source": [
    "dt = pd.read_csv(io.StringIO(s))\n",
    "dt"
   ]
  },
  {
   "cell_type": "markdown",
   "metadata": {},
   "source": [
    "# Ex2 : Requests GET"
   ]
  },
  {
   "cell_type": "code",
   "execution_count": 15,
   "metadata": {},
   "outputs": [
    {
     "data": {
      "text/html": [
       "<div>\n",
       "<style scoped>\n",
       "    .dataframe tbody tr th:only-of-type {\n",
       "        vertical-align: middle;\n",
       "    }\n",
       "\n",
       "    .dataframe tbody tr th {\n",
       "        vertical-align: top;\n",
       "    }\n",
       "\n",
       "    .dataframe thead th {\n",
       "        text-align: right;\n",
       "    }\n",
       "</style>\n",
       "<table border=\"1\" class=\"dataframe\">\n",
       "  <thead>\n",
       "    <tr style=\"text-align: right;\">\n",
       "      <th></th>\n",
       "      <th>Flavour</th>\n",
       "      <th>Calories</th>\n",
       "      <th>Total Fat (g)</th>\n",
       "      <th>Trans Fat (g)</th>\n",
       "      <th>Carbohydrates (g)</th>\n",
       "      <th>Sugars (g)</th>\n",
       "      <th>Protein (g)</th>\n",
       "    </tr>\n",
       "  </thead>\n",
       "  <tbody>\n",
       "    <tr>\n",
       "      <th>0</th>\n",
       "      <td>Bananas Foster</td>\n",
       "      <td>160</td>\n",
       "      <td>8.0</td>\n",
       "      <td>0.2</td>\n",
       "      <td>20</td>\n",
       "      <td>16</td>\n",
       "      <td>2.0</td>\n",
       "    </tr>\n",
       "    <tr>\n",
       "      <th>1</th>\n",
       "      <td>Baseball Nut</td>\n",
       "      <td>160</td>\n",
       "      <td>9.0</td>\n",
       "      <td>0.2</td>\n",
       "      <td>19</td>\n",
       "      <td>13</td>\n",
       "      <td>3.0</td>\n",
       "    </tr>\n",
       "    <tr>\n",
       "      <th>2</th>\n",
       "      <td>Beavertails Pastry</td>\n",
       "      <td>170</td>\n",
       "      <td>9.0</td>\n",
       "      <td>0.3</td>\n",
       "      <td>21</td>\n",
       "      <td>15</td>\n",
       "      <td>3.0</td>\n",
       "    </tr>\n",
       "    <tr>\n",
       "      <th>3</th>\n",
       "      <td>Blackberry Frozen Yogurt</td>\n",
       "      <td>120</td>\n",
       "      <td>4.0</td>\n",
       "      <td>0.1</td>\n",
       "      <td>17</td>\n",
       "      <td>16</td>\n",
       "      <td>3.0</td>\n",
       "    </tr>\n",
       "    <tr>\n",
       "      <th>4</th>\n",
       "      <td>Blue Raspberry Sherbet</td>\n",
       "      <td>130</td>\n",
       "      <td>2.0</td>\n",
       "      <td>0.1</td>\n",
       "      <td>26</td>\n",
       "      <td>20</td>\n",
       "      <td>2.0</td>\n",
       "    </tr>\n",
       "    <tr>\n",
       "      <th>...</th>\n",
       "      <td>...</td>\n",
       "      <td>...</td>\n",
       "      <td>...</td>\n",
       "      <td>...</td>\n",
       "      <td>...</td>\n",
       "      <td>...</td>\n",
       "      <td>...</td>\n",
       "    </tr>\n",
       "    <tr>\n",
       "      <th>65</th>\n",
       "      <td>Very Berry Strawberry</td>\n",
       "      <td>200</td>\n",
       "      <td>10.0</td>\n",
       "      <td>0.4</td>\n",
       "      <td>24</td>\n",
       "      <td>21</td>\n",
       "      <td>4.0</td>\n",
       "    </tr>\n",
       "    <tr>\n",
       "      <th>66</th>\n",
       "      <td>Watermelon Splash</td>\n",
       "      <td>120</td>\n",
       "      <td>0.5</td>\n",
       "      <td>0.0</td>\n",
       "      <td>27</td>\n",
       "      <td>20</td>\n",
       "      <td>0.1</td>\n",
       "    </tr>\n",
       "    <tr>\n",
       "      <th>67</th>\n",
       "      <td>Wild ‘n Reckless</td>\n",
       "      <td>80</td>\n",
       "      <td>1.5</td>\n",
       "      <td>0.0</td>\n",
       "      <td>16</td>\n",
       "      <td>12</td>\n",
       "      <td>1.0</td>\n",
       "    </tr>\n",
       "    <tr>\n",
       "      <th>68</th>\n",
       "      <td>Winter White Chocolate</td>\n",
       "      <td>160</td>\n",
       "      <td>8.0</td>\n",
       "      <td>0.2</td>\n",
       "      <td>20</td>\n",
       "      <td>16</td>\n",
       "      <td>2.0</td>\n",
       "    </tr>\n",
       "    <tr>\n",
       "      <th>69</th>\n",
       "      <td>World Class Chocolate</td>\n",
       "      <td>260</td>\n",
       "      <td>60.0</td>\n",
       "      <td>0.4</td>\n",
       "      <td>25</td>\n",
       "      <td>18</td>\n",
       "      <td>5.0</td>\n",
       "    </tr>\n",
       "  </tbody>\n",
       "</table>\n",
       "<p>70 rows × 7 columns</p>\n",
       "</div>"
      ],
      "text/plain": [
       "                     Flavour  Calories  Total Fat (g)  Trans Fat (g)  \\\n",
       "0             Bananas Foster       160            8.0            0.2   \n",
       "1               Baseball Nut       160            9.0            0.2   \n",
       "2         Beavertails Pastry       170            9.0            0.3   \n",
       "3   Blackberry Frozen Yogurt       120            4.0            0.1   \n",
       "4     Blue Raspberry Sherbet       130            2.0            0.1   \n",
       "..                       ...       ...            ...            ...   \n",
       "65     Very Berry Strawberry       200           10.0            0.4   \n",
       "66         Watermelon Splash       120            0.5            0.0   \n",
       "67          Wild ‘n Reckless        80            1.5            0.0   \n",
       "68    Winter White Chocolate       160            8.0            0.2   \n",
       "69     World Class Chocolate       260           60.0            0.4   \n",
       "\n",
       "    Carbohydrates (g)  Sugars (g)  Protein (g)  \n",
       "0                  20          16          2.0  \n",
       "1                  19          13          3.0  \n",
       "2                  21          15          3.0  \n",
       "3                  17          16          3.0  \n",
       "4                  26          20          2.0  \n",
       "..                ...         ...          ...  \n",
       "65                 24          21          4.0  \n",
       "66                 27          20          0.1  \n",
       "67                 16          12          1.0  \n",
       "68                 20          16          2.0  \n",
       "69                 25          18          5.0  \n",
       "\n",
       "[70 rows x 7 columns]"
      ]
     },
     "execution_count": 15,
     "metadata": {},
     "output_type": "execute_result"
    }
   ],
   "source": [
    "url = 'https://github.com/prasertcbs/basic-dataset/raw/master/BaskinRobbins.csv'\n",
    "df = pd.read_csv(url)\n",
    "df"
   ]
  },
  {
   "cell_type": "code",
   "execution_count": 18,
   "metadata": {},
   "outputs": [
    {
     "name": "stdout",
     "output_type": "stream",
     "text": [
      "Flavour,Calories,Total Fat (g),Trans Fat (g),Carbohydrates (g),Sugars (g),Protein (g)\n",
      "Bananas Foster,160,8.0,0.2,20,16,2.0\n",
      "Baseball Nut,160,9.0,0.2,19,13,3.0\n",
      "Beavertails Pastry,170,9.0,0.3,21,15,3.0\n",
      "Blackberry Frozen Yogurt,120,4.0,0.1,17,16,3.0\n",
      "Blue Raspberry Sherbet,130,2.0,0.1,26,20,2.0\n",
      "Blueberry Cheesecake,150,8.0,0.3,18,14,3.0\n",
      "Brownie Sundae(No Sugar Added),120,5.0,0.1,21,4,3.0\n",
      "Caramel Praline Cheesecake,170,8.0,0.2,21,17,3.0\n",
      "NSA Caramel Turtle Truffle,200,8.0,0.2,38,7,5.0\n",
      "Cherries Jubilee,\n"
     ]
    }
   ],
   "source": [
    "url = 'https://github.com/prasertcbs/basic-dataset/raw/master/BaskinRobbins.csv'\n",
    "r = requests.get(url)\n",
    "print(r.text[:500])"
   ]
  },
  {
   "cell_type": "code",
   "execution_count": 19,
   "metadata": {},
   "outputs": [
    {
     "data": {
      "text/plain": [
       "str"
      ]
     },
     "execution_count": 19,
     "metadata": {},
     "output_type": "execute_result"
    }
   ],
   "source": [
    "type(r.text)"
   ]
  },
  {
   "cell_type": "code",
   "execution_count": 20,
   "metadata": {},
   "outputs": [
    {
     "data": {
      "text/html": [
       "<div>\n",
       "<style scoped>\n",
       "    .dataframe tbody tr th:only-of-type {\n",
       "        vertical-align: middle;\n",
       "    }\n",
       "\n",
       "    .dataframe tbody tr th {\n",
       "        vertical-align: top;\n",
       "    }\n",
       "\n",
       "    .dataframe thead th {\n",
       "        text-align: right;\n",
       "    }\n",
       "</style>\n",
       "<table border=\"1\" class=\"dataframe\">\n",
       "  <thead>\n",
       "    <tr style=\"text-align: right;\">\n",
       "      <th></th>\n",
       "      <th>Flavour</th>\n",
       "      <th>Calories</th>\n",
       "      <th>Total Fat (g)</th>\n",
       "      <th>Trans Fat (g)</th>\n",
       "      <th>Carbohydrates (g)</th>\n",
       "      <th>Sugars (g)</th>\n",
       "      <th>Protein (g)</th>\n",
       "    </tr>\n",
       "  </thead>\n",
       "  <tbody>\n",
       "    <tr>\n",
       "      <th>0</th>\n",
       "      <td>Bananas Foster</td>\n",
       "      <td>160</td>\n",
       "      <td>8.0</td>\n",
       "      <td>0.2</td>\n",
       "      <td>20</td>\n",
       "      <td>16</td>\n",
       "      <td>2.0</td>\n",
       "    </tr>\n",
       "    <tr>\n",
       "      <th>1</th>\n",
       "      <td>Baseball Nut</td>\n",
       "      <td>160</td>\n",
       "      <td>9.0</td>\n",
       "      <td>0.2</td>\n",
       "      <td>19</td>\n",
       "      <td>13</td>\n",
       "      <td>3.0</td>\n",
       "    </tr>\n",
       "    <tr>\n",
       "      <th>2</th>\n",
       "      <td>Beavertails Pastry</td>\n",
       "      <td>170</td>\n",
       "      <td>9.0</td>\n",
       "      <td>0.3</td>\n",
       "      <td>21</td>\n",
       "      <td>15</td>\n",
       "      <td>3.0</td>\n",
       "    </tr>\n",
       "    <tr>\n",
       "      <th>3</th>\n",
       "      <td>Blackberry Frozen Yogurt</td>\n",
       "      <td>120</td>\n",
       "      <td>4.0</td>\n",
       "      <td>0.1</td>\n",
       "      <td>17</td>\n",
       "      <td>16</td>\n",
       "      <td>3.0</td>\n",
       "    </tr>\n",
       "    <tr>\n",
       "      <th>4</th>\n",
       "      <td>Blue Raspberry Sherbet</td>\n",
       "      <td>130</td>\n",
       "      <td>2.0</td>\n",
       "      <td>0.1</td>\n",
       "      <td>26</td>\n",
       "      <td>20</td>\n",
       "      <td>2.0</td>\n",
       "    </tr>\n",
       "  </tbody>\n",
       "</table>\n",
       "</div>"
      ],
      "text/plain": [
       "                    Flavour  Calories  Total Fat (g)  Trans Fat (g)  \\\n",
       "0            Bananas Foster       160            8.0            0.2   \n",
       "1              Baseball Nut       160            9.0            0.2   \n",
       "2        Beavertails Pastry       170            9.0            0.3   \n",
       "3  Blackberry Frozen Yogurt       120            4.0            0.1   \n",
       "4    Blue Raspberry Sherbet       130            2.0            0.1   \n",
       "\n",
       "   Carbohydrates (g)  Sugars (g)  Protein (g)  \n",
       "0                 20          16          2.0  \n",
       "1                 19          13          3.0  \n",
       "2                 21          15          3.0  \n",
       "3                 17          16          3.0  \n",
       "4                 26          20          2.0  "
      ]
     },
     "execution_count": 20,
     "metadata": {},
     "output_type": "execute_result"
    }
   ],
   "source": [
    "do = pd.read_csv(io.StringIO(r.text))\n",
    "do[:5]"
   ]
  },
  {
   "cell_type": "code",
   "execution_count": 23,
   "metadata": {},
   "outputs": [
    {
     "name": "stdout",
     "output_type": "stream",
     "text": [
      "<_io.StringIO object at 0x7fc5e80354c0>\n",
      "<class '_io.StringIO'>\n"
     ]
    }
   ],
   "source": [
    "x = io.StringIO(r.text)\n",
    "print(x)\n",
    "print(type(x))"
   ]
  },
  {
   "cell_type": "code",
   "execution_count": null,
   "metadata": {},
   "outputs": [],
   "source": []
  }
 ],
 "metadata": {
  "kernelspec": {
   "display_name": "Python 3",
   "language": "python",
   "name": "python3"
  },
  "language_info": {
   "codemirror_mode": {
    "name": "ipython",
    "version": 3
   },
   "file_extension": ".py",
   "mimetype": "text/x-python",
   "name": "python",
   "nbconvert_exporter": "python",
   "pygments_lexer": "ipython3",
   "version": "3.8.5"
  }
 },
 "nbformat": 4,
 "nbformat_minor": 4
}
