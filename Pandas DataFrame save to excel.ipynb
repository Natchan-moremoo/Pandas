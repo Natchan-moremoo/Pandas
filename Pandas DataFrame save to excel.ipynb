{
 "cells": [
  {
   "cell_type": "markdown",
   "metadata": {},
   "source": [
    "    Create project 13/06/2565\n",
    "    Create by moremoo\n",
    "    Project : Pandas save DataFrame"
   ]
  },
  {
   "cell_type": "code",
   "execution_count": null,
   "metadata": {},
   "outputs": [],
   "source": []
  },
  {
   "cell_type": "code",
   "execution_count": 2,
   "metadata": {},
   "outputs": [
    {
     "name": "stdout",
     "output_type": "stream",
     "text": [
      "pandas version: 1.1.3\n"
     ]
    }
   ],
   "source": [
    "import pandas as pd\n",
    "print(f'pandas version: {pd.__version__}')"
   ]
  },
  {
   "cell_type": "code",
   "execution_count": 6,
   "metadata": {},
   "outputs": [
    {
     "data": {
      "text/html": [
       "<div>\n",
       "<style scoped>\n",
       "    .dataframe tbody tr th:only-of-type {\n",
       "        vertical-align: middle;\n",
       "    }\n",
       "\n",
       "    .dataframe tbody tr th {\n",
       "        vertical-align: top;\n",
       "    }\n",
       "\n",
       "    .dataframe thead th {\n",
       "        text-align: right;\n",
       "    }\n",
       "</style>\n",
       "<table border=\"1\" class=\"dataframe\">\n",
       "  <thead>\n",
       "    <tr style=\"text-align: right;\">\n",
       "      <th></th>\n",
       "      <th>ชื่อจังหวัด อักษรไทย</th>\n",
       "      <th>ชื่อจังหวัด อักษรโรมัน</th>\n",
       "      <th>จำนวนประชากร (คน)</th>\n",
       "      <th>พื้นที่ (ตร.กม.)</th>\n",
       "      <th>ความหนาแน่น ประชากร (คน/ตร.กม.)</th>\n",
       "      <th>ดพม.[2]</th>\n",
       "      <th>ตัวย่อ อักษรไทย</th>\n",
       "      <th>ตัวย่อ อักษรโรมัน</th>\n",
       "      <th>รหัส ไอเอสโอ</th>\n",
       "      <th>รหัสฟิปส์</th>\n",
       "    </tr>\n",
       "  </thead>\n",
       "  <tbody>\n",
       "    <tr>\n",
       "      <th>0</th>\n",
       "      <td>กาญจนบุรี</td>\n",
       "      <td>Kanchanaburi</td>\n",
       "      <td>839776</td>\n",
       "      <td>19483.2</td>\n",
       "      <td>43.1</td>\n",
       "      <td>0.733</td>\n",
       "      <td>กจ</td>\n",
       "      <td>KRI</td>\n",
       "      <td>TH-71</td>\n",
       "      <td>TH50</td>\n",
       "    </tr>\n",
       "    <tr>\n",
       "      <th>1</th>\n",
       "      <td>ตาก</td>\n",
       "      <td>Tak</td>\n",
       "      <td>525684</td>\n",
       "      <td>16406.6</td>\n",
       "      <td>32.0</td>\n",
       "      <td>0.735</td>\n",
       "      <td>ตก</td>\n",
       "      <td>TAK</td>\n",
       "      <td>TH-63</td>\n",
       "      <td>TH08</td>\n",
       "    </tr>\n",
       "    <tr>\n",
       "      <th>2</th>\n",
       "      <td>ประจวบคีรีขันธ์</td>\n",
       "      <td>Prachuap Khiri Khan</td>\n",
       "      <td>509134</td>\n",
       "      <td>6367.6</td>\n",
       "      <td>80.0</td>\n",
       "      <td>0.868</td>\n",
       "      <td>ปข</td>\n",
       "      <td>PKN</td>\n",
       "      <td>TH-77</td>\n",
       "      <td>TH57</td>\n",
       "    </tr>\n",
       "    <tr>\n",
       "      <th>3</th>\n",
       "      <td>เพชรบุรี</td>\n",
       "      <td>Phetchaburi</td>\n",
       "      <td>464033</td>\n",
       "      <td>6225.1</td>\n",
       "      <td>74.5</td>\n",
       "      <td>0.798</td>\n",
       "      <td>พบ</td>\n",
       "      <td>PBI</td>\n",
       "      <td>TH-76</td>\n",
       "      <td>TH56</td>\n",
       "    </tr>\n",
       "    <tr>\n",
       "      <th>4</th>\n",
       "      <td>ราชบุรี</td>\n",
       "      <td>Ratchaburi</td>\n",
       "      <td>839075</td>\n",
       "      <td>5196.5</td>\n",
       "      <td>161.5</td>\n",
       "      <td>0.726</td>\n",
       "      <td>รบ</td>\n",
       "      <td>RBR</td>\n",
       "      <td>TH-70</td>\n",
       "      <td>TH52</td>\n",
       "    </tr>\n",
       "  </tbody>\n",
       "</table>\n",
       "</div>"
      ],
      "text/plain": [
       "  ชื่อจังหวัด อักษรไทย ชื่อจังหวัด อักษรโรมัน  จำนวนประชากร (คน)  \\\n",
       "0            กาญจนบุรี           Kanchanaburi             839776   \n",
       "1                  ตาก                    Tak             525684   \n",
       "2      ประจวบคีรีขันธ์    Prachuap Khiri Khan             509134   \n",
       "3             เพชรบุรี            Phetchaburi             464033   \n",
       "4              ราชบุรี             Ratchaburi             839075   \n",
       "\n",
       "   พื้นที่ (ตร.กม.)  ความหนาแน่น ประชากร (คน/ตร.กม.)  ดพม.[2] ตัวย่อ อักษรไทย  \\\n",
       "0           19483.2                             43.1    0.733              กจ   \n",
       "1           16406.6                             32.0    0.735              ตก   \n",
       "2            6367.6                             80.0    0.868              ปข   \n",
       "3            6225.1                             74.5    0.798              พบ   \n",
       "4            5196.5                            161.5    0.726              รบ   \n",
       "\n",
       "  ตัวย่อ อักษรโรมัน รหัส ไอเอสโอ รหัสฟิปส์  \n",
       "0               KRI        TH-71      TH50  \n",
       "1               TAK        TH-63      TH08  \n",
       "2               PKN        TH-77      TH57  \n",
       "3               PBI        TH-76      TH56  \n",
       "4               RBR        TH-70      TH52  "
      ]
     },
     "execution_count": 6,
     "metadata": {},
     "output_type": "execute_result"
    }
   ],
   "source": [
    "went = pd.read_csv('https://github.com/prasertcbs/basic-dataset/raw/master/province_in_region/W.csv')\n",
    "went"
   ]
  },
  {
   "cell_type": "code",
   "execution_count": null,
   "metadata": {},
   "outputs": [],
   "source": []
  }
 ],
 "metadata": {
  "kernelspec": {
   "display_name": "Python 3",
   "language": "python",
   "name": "python3"
  },
  "language_info": {
   "codemirror_mode": {
    "name": "ipython",
    "version": 3
   },
   "file_extension": ".py",
   "mimetype": "text/x-python",
   "name": "python",
   "nbconvert_exporter": "python",
   "pygments_lexer": "ipython3",
   "version": "3.8.5"
  }
 },
 "nbformat": 4,
 "nbformat_minor": 4
}
